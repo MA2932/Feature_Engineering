{
  "nbformat": 4,
  "nbformat_minor": 0,
  "metadata": {
    "colab": {
      "name": "ImbalanceDataSet_CreditCardFraud.ipynb",
      "provenance": [],
      "collapsed_sections": [],
      "mount_file_id": "1T4mj1EpMVcGAMTzhuRyF4Cl6hBdT25z0",
      "authorship_tag": "ABX9TyNQgbmdwGlt+FMcWUFkJY4s",
      "include_colab_link": true
    },
    "kernelspec": {
      "name": "python3",
      "display_name": "Python 3"
    },
    "language_info": {
      "name": "python"
    }
  },
  "cells": [
    {
      "cell_type": "markdown",
      "metadata": {
        "id": "view-in-github",
        "colab_type": "text"
      },
      "source": [
        "<a href=\"https://colab.research.google.com/github/GeneralZl1/Feature_Engineering/blob/main/ImbalanceDataSet_CreditCardFraud.ipynb\" target=\"_parent\"><img src=\"https://colab.research.google.com/assets/colab-badge.svg\" alt=\"Open In Colab\"/></a>"
      ]
    },
    {
      "cell_type": "code",
      "metadata": {
        "colab": {
          "base_uri": "https://localhost:8080/"
        },
        "id": "2rj83UpwN71d",
        "outputId": "6b7138d8-9a30-4577-8012-320dbf4f19eb"
      },
      "source": [
        "pip install imbalanced_learn"
      ],
      "execution_count": 12,
      "outputs": [
        {
          "output_type": "stream",
          "text": [
            "Requirement already satisfied: imbalanced_learn in /usr/local/lib/python3.7/dist-packages (0.4.3)\n",
            "Requirement already satisfied: scikit-learn>=0.20 in /usr/local/lib/python3.7/dist-packages (from imbalanced_learn) (0.22.2.post1)\n",
            "Requirement already satisfied: scipy>=0.13.3 in /usr/local/lib/python3.7/dist-packages (from imbalanced_learn) (1.4.1)\n",
            "Requirement already satisfied: numpy>=1.8.2 in /usr/local/lib/python3.7/dist-packages (from imbalanced_learn) (1.19.5)\n",
            "Requirement already satisfied: joblib>=0.11 in /usr/local/lib/python3.7/dist-packages (from scikit-learn>=0.20->imbalanced_learn) (1.0.1)\n"
          ],
          "name": "stdout"
        }
      ]
    },
    {
      "cell_type": "code",
      "metadata": {
        "id": "Ur5q8Oiseb7T"
      },
      "source": [
        "import pandas as pd\n",
        "df=pd.read_csv(\"/content/drive/MyDrive/data/creditcard.csv\")"
      ],
      "execution_count": 13,
      "outputs": []
    },
    {
      "cell_type": "code",
      "metadata": {
        "colab": {
          "base_uri": "https://localhost:8080/",
          "height": 224
        },
        "id": "JhWk9JSiOMZZ",
        "outputId": "60d4e833-808b-4a10-d980-c4cc090d7686"
      },
      "source": [
        "df.head()"
      ],
      "execution_count": 14,
      "outputs": [
        {
          "output_type": "execute_result",
          "data": {
            "text/html": [
              "<div>\n",
              "<style scoped>\n",
              "    .dataframe tbody tr th:only-of-type {\n",
              "        vertical-align: middle;\n",
              "    }\n",
              "\n",
              "    .dataframe tbody tr th {\n",
              "        vertical-align: top;\n",
              "    }\n",
              "\n",
              "    .dataframe thead th {\n",
              "        text-align: right;\n",
              "    }\n",
              "</style>\n",
              "<table border=\"1\" class=\"dataframe\">\n",
              "  <thead>\n",
              "    <tr style=\"text-align: right;\">\n",
              "      <th></th>\n",
              "      <th>Time</th>\n",
              "      <th>V1</th>\n",
              "      <th>V2</th>\n",
              "      <th>V3</th>\n",
              "      <th>V4</th>\n",
              "      <th>V5</th>\n",
              "      <th>V6</th>\n",
              "      <th>V7</th>\n",
              "      <th>V8</th>\n",
              "      <th>V9</th>\n",
              "      <th>V10</th>\n",
              "      <th>V11</th>\n",
              "      <th>V12</th>\n",
              "      <th>V13</th>\n",
              "      <th>V14</th>\n",
              "      <th>V15</th>\n",
              "      <th>V16</th>\n",
              "      <th>V17</th>\n",
              "      <th>V18</th>\n",
              "      <th>V19</th>\n",
              "      <th>V20</th>\n",
              "      <th>V21</th>\n",
              "      <th>V22</th>\n",
              "      <th>V23</th>\n",
              "      <th>V24</th>\n",
              "      <th>V25</th>\n",
              "      <th>V26</th>\n",
              "      <th>V27</th>\n",
              "      <th>V28</th>\n",
              "      <th>Amount</th>\n",
              "      <th>Class</th>\n",
              "    </tr>\n",
              "  </thead>\n",
              "  <tbody>\n",
              "    <tr>\n",
              "      <th>0</th>\n",
              "      <td>0.0</td>\n",
              "      <td>-1.359807</td>\n",
              "      <td>-0.072781</td>\n",
              "      <td>2.536347</td>\n",
              "      <td>1.378155</td>\n",
              "      <td>-0.338321</td>\n",
              "      <td>0.462388</td>\n",
              "      <td>0.239599</td>\n",
              "      <td>0.098698</td>\n",
              "      <td>0.363787</td>\n",
              "      <td>0.090794</td>\n",
              "      <td>-0.551600</td>\n",
              "      <td>-0.617801</td>\n",
              "      <td>-0.991390</td>\n",
              "      <td>-0.311169</td>\n",
              "      <td>1.468177</td>\n",
              "      <td>-0.470401</td>\n",
              "      <td>0.207971</td>\n",
              "      <td>0.025791</td>\n",
              "      <td>0.403993</td>\n",
              "      <td>0.251412</td>\n",
              "      <td>-0.018307</td>\n",
              "      <td>0.277838</td>\n",
              "      <td>-0.110474</td>\n",
              "      <td>0.066928</td>\n",
              "      <td>0.128539</td>\n",
              "      <td>-0.189115</td>\n",
              "      <td>0.133558</td>\n",
              "      <td>-0.021053</td>\n",
              "      <td>149.62</td>\n",
              "      <td>0</td>\n",
              "    </tr>\n",
              "    <tr>\n",
              "      <th>1</th>\n",
              "      <td>0.0</td>\n",
              "      <td>1.191857</td>\n",
              "      <td>0.266151</td>\n",
              "      <td>0.166480</td>\n",
              "      <td>0.448154</td>\n",
              "      <td>0.060018</td>\n",
              "      <td>-0.082361</td>\n",
              "      <td>-0.078803</td>\n",
              "      <td>0.085102</td>\n",
              "      <td>-0.255425</td>\n",
              "      <td>-0.166974</td>\n",
              "      <td>1.612727</td>\n",
              "      <td>1.065235</td>\n",
              "      <td>0.489095</td>\n",
              "      <td>-0.143772</td>\n",
              "      <td>0.635558</td>\n",
              "      <td>0.463917</td>\n",
              "      <td>-0.114805</td>\n",
              "      <td>-0.183361</td>\n",
              "      <td>-0.145783</td>\n",
              "      <td>-0.069083</td>\n",
              "      <td>-0.225775</td>\n",
              "      <td>-0.638672</td>\n",
              "      <td>0.101288</td>\n",
              "      <td>-0.339846</td>\n",
              "      <td>0.167170</td>\n",
              "      <td>0.125895</td>\n",
              "      <td>-0.008983</td>\n",
              "      <td>0.014724</td>\n",
              "      <td>2.69</td>\n",
              "      <td>0</td>\n",
              "    </tr>\n",
              "    <tr>\n",
              "      <th>2</th>\n",
              "      <td>1.0</td>\n",
              "      <td>-1.358354</td>\n",
              "      <td>-1.340163</td>\n",
              "      <td>1.773209</td>\n",
              "      <td>0.379780</td>\n",
              "      <td>-0.503198</td>\n",
              "      <td>1.800499</td>\n",
              "      <td>0.791461</td>\n",
              "      <td>0.247676</td>\n",
              "      <td>-1.514654</td>\n",
              "      <td>0.207643</td>\n",
              "      <td>0.624501</td>\n",
              "      <td>0.066084</td>\n",
              "      <td>0.717293</td>\n",
              "      <td>-0.165946</td>\n",
              "      <td>2.345865</td>\n",
              "      <td>-2.890083</td>\n",
              "      <td>1.109969</td>\n",
              "      <td>-0.121359</td>\n",
              "      <td>-2.261857</td>\n",
              "      <td>0.524980</td>\n",
              "      <td>0.247998</td>\n",
              "      <td>0.771679</td>\n",
              "      <td>0.909412</td>\n",
              "      <td>-0.689281</td>\n",
              "      <td>-0.327642</td>\n",
              "      <td>-0.139097</td>\n",
              "      <td>-0.055353</td>\n",
              "      <td>-0.059752</td>\n",
              "      <td>378.66</td>\n",
              "      <td>0</td>\n",
              "    </tr>\n",
              "    <tr>\n",
              "      <th>3</th>\n",
              "      <td>1.0</td>\n",
              "      <td>-0.966272</td>\n",
              "      <td>-0.185226</td>\n",
              "      <td>1.792993</td>\n",
              "      <td>-0.863291</td>\n",
              "      <td>-0.010309</td>\n",
              "      <td>1.247203</td>\n",
              "      <td>0.237609</td>\n",
              "      <td>0.377436</td>\n",
              "      <td>-1.387024</td>\n",
              "      <td>-0.054952</td>\n",
              "      <td>-0.226487</td>\n",
              "      <td>0.178228</td>\n",
              "      <td>0.507757</td>\n",
              "      <td>-0.287924</td>\n",
              "      <td>-0.631418</td>\n",
              "      <td>-1.059647</td>\n",
              "      <td>-0.684093</td>\n",
              "      <td>1.965775</td>\n",
              "      <td>-1.232622</td>\n",
              "      <td>-0.208038</td>\n",
              "      <td>-0.108300</td>\n",
              "      <td>0.005274</td>\n",
              "      <td>-0.190321</td>\n",
              "      <td>-1.175575</td>\n",
              "      <td>0.647376</td>\n",
              "      <td>-0.221929</td>\n",
              "      <td>0.062723</td>\n",
              "      <td>0.061458</td>\n",
              "      <td>123.50</td>\n",
              "      <td>0</td>\n",
              "    </tr>\n",
              "    <tr>\n",
              "      <th>4</th>\n",
              "      <td>2.0</td>\n",
              "      <td>-1.158233</td>\n",
              "      <td>0.877737</td>\n",
              "      <td>1.548718</td>\n",
              "      <td>0.403034</td>\n",
              "      <td>-0.407193</td>\n",
              "      <td>0.095921</td>\n",
              "      <td>0.592941</td>\n",
              "      <td>-0.270533</td>\n",
              "      <td>0.817739</td>\n",
              "      <td>0.753074</td>\n",
              "      <td>-0.822843</td>\n",
              "      <td>0.538196</td>\n",
              "      <td>1.345852</td>\n",
              "      <td>-1.119670</td>\n",
              "      <td>0.175121</td>\n",
              "      <td>-0.451449</td>\n",
              "      <td>-0.237033</td>\n",
              "      <td>-0.038195</td>\n",
              "      <td>0.803487</td>\n",
              "      <td>0.408542</td>\n",
              "      <td>-0.009431</td>\n",
              "      <td>0.798278</td>\n",
              "      <td>-0.137458</td>\n",
              "      <td>0.141267</td>\n",
              "      <td>-0.206010</td>\n",
              "      <td>0.502292</td>\n",
              "      <td>0.219422</td>\n",
              "      <td>0.215153</td>\n",
              "      <td>69.99</td>\n",
              "      <td>0</td>\n",
              "    </tr>\n",
              "  </tbody>\n",
              "</table>\n",
              "</div>"
            ],
            "text/plain": [
              "   Time        V1        V2        V3  ...       V27       V28  Amount  Class\n",
              "0   0.0 -1.359807 -0.072781  2.536347  ...  0.133558 -0.021053  149.62      0\n",
              "1   0.0  1.191857  0.266151  0.166480  ... -0.008983  0.014724    2.69      0\n",
              "2   1.0 -1.358354 -1.340163  1.773209  ... -0.055353 -0.059752  378.66      0\n",
              "3   1.0 -0.966272 -0.185226  1.792993  ...  0.062723  0.061458  123.50      0\n",
              "4   2.0 -1.158233  0.877737  1.548718  ...  0.219422  0.215153   69.99      0\n",
              "\n",
              "[5 rows x 31 columns]"
            ]
          },
          "metadata": {
            "tags": []
          },
          "execution_count": 14
        }
      ]
    },
    {
      "cell_type": "code",
      "metadata": {
        "colab": {
          "base_uri": "https://localhost:8080/"
        },
        "id": "ipuLaV3LORtn",
        "outputId": "35f189a1-78a1-4cfb-b7c8-fd8def209464"
      },
      "source": [
        "df.shape"
      ],
      "execution_count": 15,
      "outputs": [
        {
          "output_type": "execute_result",
          "data": {
            "text/plain": [
              "(284807, 31)"
            ]
          },
          "metadata": {
            "tags": []
          },
          "execution_count": 15
        }
      ]
    },
    {
      "cell_type": "code",
      "metadata": {
        "colab": {
          "base_uri": "https://localhost:8080/"
        },
        "id": "JvwNB6EdOPDW",
        "outputId": "a46602f6-79d3-45cc-f10b-5aa90a46aa2a"
      },
      "source": [
        "df.isnull().sum()"
      ],
      "execution_count": 16,
      "outputs": [
        {
          "output_type": "execute_result",
          "data": {
            "text/plain": [
              "Time      0\n",
              "V1        0\n",
              "V2        0\n",
              "V3        0\n",
              "V4        0\n",
              "V5        0\n",
              "V6        0\n",
              "V7        0\n",
              "V8        0\n",
              "V9        0\n",
              "V10       0\n",
              "V11       0\n",
              "V12       0\n",
              "V13       0\n",
              "V14       0\n",
              "V15       0\n",
              "V16       0\n",
              "V17       0\n",
              "V18       0\n",
              "V19       0\n",
              "V20       0\n",
              "V21       0\n",
              "V22       0\n",
              "V23       0\n",
              "V24       0\n",
              "V25       0\n",
              "V26       0\n",
              "V27       0\n",
              "V28       0\n",
              "Amount    0\n",
              "Class     0\n",
              "dtype: int64"
            ]
          },
          "metadata": {
            "tags": []
          },
          "execution_count": 16
        }
      ]
    },
    {
      "cell_type": "code",
      "metadata": {
        "colab": {
          "base_uri": "https://localhost:8080/"
        },
        "id": "46xDfTMHOdax",
        "outputId": "84bc8b2b-3b08-44e4-d080-a92c5049b73b"
      },
      "source": [
        " df[\"Class\"].value_counts()"
      ],
      "execution_count": 17,
      "outputs": [
        {
          "output_type": "execute_result",
          "data": {
            "text/plain": [
              "0    284315\n",
              "1       492\n",
              "Name: Class, dtype: int64"
            ]
          },
          "metadata": {
            "tags": []
          },
          "execution_count": 17
        }
      ]
    },
    {
      "cell_type": "code",
      "metadata": {
        "id": "sipyr0N6PV1b"
      },
      "source": [
        "x_noSamp=df.iloc[:,0:-1]\n",
        "y_noSamp=df.iloc[:,-1]"
      ],
      "execution_count": 18,
      "outputs": []
    },
    {
      "cell_type": "markdown",
      "metadata": {
        "id": "4JVU1jqgp8A3"
      },
      "source": [
        "No UnderSampling"
      ]
    },
    {
      "cell_type": "code",
      "metadata": {
        "id": "auiHFVsoQa0D"
      },
      "source": [
        "import numpy as np\n",
        "from sklearn.linear_model import LogisticRegression\n",
        "from sklearn.metrics import accuracy_score,precision_score,recall_score,f1_score\n",
        "from sklearn.model_selection import train_test_split\n",
        "from sklearn.preprocessing import StandardScaler"
      ],
      "execution_count": 19,
      "outputs": []
    },
    {
      "cell_type": "code",
      "metadata": {
        "id": "d39JRorXPKii"
      },
      "source": [
        "# function to generate a report of metrics\n",
        "def generate_report(y_actual,y_predicted):\n",
        "  report={'accuracy':accuracy_score(y_actual,y_predicted),'precision':precision_score(y_actual,y_predicted),'recall':recall_score(y_actual,y_predicted),'f1_score':f1_score(y_actual,y_predicted)}\n",
        "  return report"
      ],
      "execution_count": 20,
      "outputs": []
    },
    {
      "cell_type": "code",
      "metadata": {
        "id": "EeYhBiPdczTu"
      },
      "source": [
        "x_noSamp_train,x_noSamp_test,y_noSamp_train,y_noSamp_test=train_test_split(x_noSamp,y_noSamp,train_size=0.7)"
      ],
      "execution_count": 21,
      "outputs": []
    },
    {
      "cell_type": "code",
      "metadata": {
        "id": "0qN3o6EePxHy"
      },
      "source": [
        "scaler_noSamp=StandardScaler()\n",
        "x_noSamp_train_sc=scaler_noSamp.fit_transform(x_noSamp_train)\n",
        "x_noSamp_test_sc=scaler_noSamp.fit_transform(x_noSamp_test)"
      ],
      "execution_count": 22,
      "outputs": []
    },
    {
      "cell_type": "code",
      "metadata": {
        "id": "idkATbDdPCUO"
      },
      "source": [
        "LR_noSamp=LogisticRegression().fit(x_noSamp_train_sc,y_noSamp_train)"
      ],
      "execution_count": 23,
      "outputs": []
    },
    {
      "cell_type": "code",
      "metadata": {
        "id": "7EgeTxzORQGd"
      },
      "source": [
        "pred_noSamp=LR_noSamp.predict(x_noSamp_test_sc)"
      ],
      "execution_count": 25,
      "outputs": []
    },
    {
      "cell_type": "code",
      "metadata": {
        "colab": {
          "base_uri": "https://localhost:8080/"
        },
        "id": "5toZzGC9RWm6",
        "outputId": "77b34f1b-9e30-4e17-b292-45c172b5f416"
      },
      "source": [
        "print(generate_report(y_noSamp_test,pred_noSamp))"
      ],
      "execution_count": 26,
      "outputs": [
        {
          "output_type": "stream",
          "text": [
            "{'accuracy': 0.9991105181231933, 'precision': 0.8854166666666666, 'recall': 0.5666666666666667, 'f1_score': 0.6910569105691056}\n"
          ],
          "name": "stdout"
        }
      ]
    },
    {
      "cell_type": "markdown",
      "metadata": {
        "id": "GgfwdsJlRtI0"
      },
      "source": [
        "UnderSampling"
      ]
    },
    {
      "cell_type": "code",
      "metadata": {
        "colab": {
          "base_uri": "https://localhost:8080/",
          "height": 224
        },
        "id": "aktJ8QJWRs80",
        "outputId": "84e8f844-4a8e-46e0-8bb5-19306f37b9f0"
      },
      "source": [
        "df.head()"
      ],
      "execution_count": 27,
      "outputs": [
        {
          "output_type": "execute_result",
          "data": {
            "text/html": [
              "<div>\n",
              "<style scoped>\n",
              "    .dataframe tbody tr th:only-of-type {\n",
              "        vertical-align: middle;\n",
              "    }\n",
              "\n",
              "    .dataframe tbody tr th {\n",
              "        vertical-align: top;\n",
              "    }\n",
              "\n",
              "    .dataframe thead th {\n",
              "        text-align: right;\n",
              "    }\n",
              "</style>\n",
              "<table border=\"1\" class=\"dataframe\">\n",
              "  <thead>\n",
              "    <tr style=\"text-align: right;\">\n",
              "      <th></th>\n",
              "      <th>Time</th>\n",
              "      <th>V1</th>\n",
              "      <th>V2</th>\n",
              "      <th>V3</th>\n",
              "      <th>V4</th>\n",
              "      <th>V5</th>\n",
              "      <th>V6</th>\n",
              "      <th>V7</th>\n",
              "      <th>V8</th>\n",
              "      <th>V9</th>\n",
              "      <th>V10</th>\n",
              "      <th>V11</th>\n",
              "      <th>V12</th>\n",
              "      <th>V13</th>\n",
              "      <th>V14</th>\n",
              "      <th>V15</th>\n",
              "      <th>V16</th>\n",
              "      <th>V17</th>\n",
              "      <th>V18</th>\n",
              "      <th>V19</th>\n",
              "      <th>V20</th>\n",
              "      <th>V21</th>\n",
              "      <th>V22</th>\n",
              "      <th>V23</th>\n",
              "      <th>V24</th>\n",
              "      <th>V25</th>\n",
              "      <th>V26</th>\n",
              "      <th>V27</th>\n",
              "      <th>V28</th>\n",
              "      <th>Amount</th>\n",
              "      <th>Class</th>\n",
              "    </tr>\n",
              "  </thead>\n",
              "  <tbody>\n",
              "    <tr>\n",
              "      <th>0</th>\n",
              "      <td>0.0</td>\n",
              "      <td>-1.359807</td>\n",
              "      <td>-0.072781</td>\n",
              "      <td>2.536347</td>\n",
              "      <td>1.378155</td>\n",
              "      <td>-0.338321</td>\n",
              "      <td>0.462388</td>\n",
              "      <td>0.239599</td>\n",
              "      <td>0.098698</td>\n",
              "      <td>0.363787</td>\n",
              "      <td>0.090794</td>\n",
              "      <td>-0.551600</td>\n",
              "      <td>-0.617801</td>\n",
              "      <td>-0.991390</td>\n",
              "      <td>-0.311169</td>\n",
              "      <td>1.468177</td>\n",
              "      <td>-0.470401</td>\n",
              "      <td>0.207971</td>\n",
              "      <td>0.025791</td>\n",
              "      <td>0.403993</td>\n",
              "      <td>0.251412</td>\n",
              "      <td>-0.018307</td>\n",
              "      <td>0.277838</td>\n",
              "      <td>-0.110474</td>\n",
              "      <td>0.066928</td>\n",
              "      <td>0.128539</td>\n",
              "      <td>-0.189115</td>\n",
              "      <td>0.133558</td>\n",
              "      <td>-0.021053</td>\n",
              "      <td>149.62</td>\n",
              "      <td>0</td>\n",
              "    </tr>\n",
              "    <tr>\n",
              "      <th>1</th>\n",
              "      <td>0.0</td>\n",
              "      <td>1.191857</td>\n",
              "      <td>0.266151</td>\n",
              "      <td>0.166480</td>\n",
              "      <td>0.448154</td>\n",
              "      <td>0.060018</td>\n",
              "      <td>-0.082361</td>\n",
              "      <td>-0.078803</td>\n",
              "      <td>0.085102</td>\n",
              "      <td>-0.255425</td>\n",
              "      <td>-0.166974</td>\n",
              "      <td>1.612727</td>\n",
              "      <td>1.065235</td>\n",
              "      <td>0.489095</td>\n",
              "      <td>-0.143772</td>\n",
              "      <td>0.635558</td>\n",
              "      <td>0.463917</td>\n",
              "      <td>-0.114805</td>\n",
              "      <td>-0.183361</td>\n",
              "      <td>-0.145783</td>\n",
              "      <td>-0.069083</td>\n",
              "      <td>-0.225775</td>\n",
              "      <td>-0.638672</td>\n",
              "      <td>0.101288</td>\n",
              "      <td>-0.339846</td>\n",
              "      <td>0.167170</td>\n",
              "      <td>0.125895</td>\n",
              "      <td>-0.008983</td>\n",
              "      <td>0.014724</td>\n",
              "      <td>2.69</td>\n",
              "      <td>0</td>\n",
              "    </tr>\n",
              "    <tr>\n",
              "      <th>2</th>\n",
              "      <td>1.0</td>\n",
              "      <td>-1.358354</td>\n",
              "      <td>-1.340163</td>\n",
              "      <td>1.773209</td>\n",
              "      <td>0.379780</td>\n",
              "      <td>-0.503198</td>\n",
              "      <td>1.800499</td>\n",
              "      <td>0.791461</td>\n",
              "      <td>0.247676</td>\n",
              "      <td>-1.514654</td>\n",
              "      <td>0.207643</td>\n",
              "      <td>0.624501</td>\n",
              "      <td>0.066084</td>\n",
              "      <td>0.717293</td>\n",
              "      <td>-0.165946</td>\n",
              "      <td>2.345865</td>\n",
              "      <td>-2.890083</td>\n",
              "      <td>1.109969</td>\n",
              "      <td>-0.121359</td>\n",
              "      <td>-2.261857</td>\n",
              "      <td>0.524980</td>\n",
              "      <td>0.247998</td>\n",
              "      <td>0.771679</td>\n",
              "      <td>0.909412</td>\n",
              "      <td>-0.689281</td>\n",
              "      <td>-0.327642</td>\n",
              "      <td>-0.139097</td>\n",
              "      <td>-0.055353</td>\n",
              "      <td>-0.059752</td>\n",
              "      <td>378.66</td>\n",
              "      <td>0</td>\n",
              "    </tr>\n",
              "    <tr>\n",
              "      <th>3</th>\n",
              "      <td>1.0</td>\n",
              "      <td>-0.966272</td>\n",
              "      <td>-0.185226</td>\n",
              "      <td>1.792993</td>\n",
              "      <td>-0.863291</td>\n",
              "      <td>-0.010309</td>\n",
              "      <td>1.247203</td>\n",
              "      <td>0.237609</td>\n",
              "      <td>0.377436</td>\n",
              "      <td>-1.387024</td>\n",
              "      <td>-0.054952</td>\n",
              "      <td>-0.226487</td>\n",
              "      <td>0.178228</td>\n",
              "      <td>0.507757</td>\n",
              "      <td>-0.287924</td>\n",
              "      <td>-0.631418</td>\n",
              "      <td>-1.059647</td>\n",
              "      <td>-0.684093</td>\n",
              "      <td>1.965775</td>\n",
              "      <td>-1.232622</td>\n",
              "      <td>-0.208038</td>\n",
              "      <td>-0.108300</td>\n",
              "      <td>0.005274</td>\n",
              "      <td>-0.190321</td>\n",
              "      <td>-1.175575</td>\n",
              "      <td>0.647376</td>\n",
              "      <td>-0.221929</td>\n",
              "      <td>0.062723</td>\n",
              "      <td>0.061458</td>\n",
              "      <td>123.50</td>\n",
              "      <td>0</td>\n",
              "    </tr>\n",
              "    <tr>\n",
              "      <th>4</th>\n",
              "      <td>2.0</td>\n",
              "      <td>-1.158233</td>\n",
              "      <td>0.877737</td>\n",
              "      <td>1.548718</td>\n",
              "      <td>0.403034</td>\n",
              "      <td>-0.407193</td>\n",
              "      <td>0.095921</td>\n",
              "      <td>0.592941</td>\n",
              "      <td>-0.270533</td>\n",
              "      <td>0.817739</td>\n",
              "      <td>0.753074</td>\n",
              "      <td>-0.822843</td>\n",
              "      <td>0.538196</td>\n",
              "      <td>1.345852</td>\n",
              "      <td>-1.119670</td>\n",
              "      <td>0.175121</td>\n",
              "      <td>-0.451449</td>\n",
              "      <td>-0.237033</td>\n",
              "      <td>-0.038195</td>\n",
              "      <td>0.803487</td>\n",
              "      <td>0.408542</td>\n",
              "      <td>-0.009431</td>\n",
              "      <td>0.798278</td>\n",
              "      <td>-0.137458</td>\n",
              "      <td>0.141267</td>\n",
              "      <td>-0.206010</td>\n",
              "      <td>0.502292</td>\n",
              "      <td>0.219422</td>\n",
              "      <td>0.215153</td>\n",
              "      <td>69.99</td>\n",
              "      <td>0</td>\n",
              "    </tr>\n",
              "  </tbody>\n",
              "</table>\n",
              "</div>"
            ],
            "text/plain": [
              "   Time        V1        V2        V3  ...       V27       V28  Amount  Class\n",
              "0   0.0 -1.359807 -0.072781  2.536347  ...  0.133558 -0.021053  149.62      0\n",
              "1   0.0  1.191857  0.266151  0.166480  ... -0.008983  0.014724    2.69      0\n",
              "2   1.0 -1.358354 -1.340163  1.773209  ... -0.055353 -0.059752  378.66      0\n",
              "3   1.0 -0.966272 -0.185226  1.792993  ...  0.062723  0.061458  123.50      0\n",
              "4   2.0 -1.158233  0.877737  1.548718  ...  0.219422  0.215153   69.99      0\n",
              "\n",
              "[5 rows x 31 columns]"
            ]
          },
          "metadata": {
            "tags": []
          },
          "execution_count": 27
        }
      ]
    },
    {
      "cell_type": "code",
      "metadata": {
        "id": "faryucpgRdRK"
      },
      "source": [
        "x_uSamp=df.iloc[:,0:-1]\n",
        "y_uSamp=df.iloc[:,-1]"
      ],
      "execution_count": 28,
      "outputs": []
    },
    {
      "cell_type": "code",
      "metadata": {
        "id": "vqi_VLErSHgP"
      },
      "source": [
        "minor_class_len = len(y_uSamp[y_uSamp == 1])"
      ],
      "execution_count": 29,
      "outputs": []
    },
    {
      "cell_type": "code",
      "metadata": {
        "id": "33jtMby2STcW"
      },
      "source": [
        "major_class_indices=y_uSamp[y_uSamp == 0].index"
      ],
      "execution_count": 30,
      "outputs": []
    },
    {
      "cell_type": "code",
      "metadata": {
        "id": "STN5R36USUke"
      },
      "source": [
        "random_major_class_indices=np.random.choice(major_class_indices,minor_class_len,replace=False)"
      ],
      "execution_count": 31,
      "outputs": []
    },
    {
      "cell_type": "code",
      "metadata": {
        "id": "fhwTvul2TWtU"
      },
      "source": [
        "minor_class_indices=y_uSamp[y_uSamp == 1].index"
      ],
      "execution_count": 32,
      "outputs": []
    },
    {
      "cell_type": "code",
      "metadata": {
        "id": "8VSO163SSy1s"
      },
      "source": [
        "major_minor_indices=np.concatenate([random_major_class_indices,minor_class_indices])"
      ],
      "execution_count": 33,
      "outputs": []
    },
    {
      "cell_type": "code",
      "metadata": {
        "id": "LRs-xIW6TEAL"
      },
      "source": [
        "undersample_df=df.loc[major_minor_indices]"
      ],
      "execution_count": 34,
      "outputs": []
    },
    {
      "cell_type": "code",
      "metadata": {
        "colab": {
          "base_uri": "https://localhost:8080/",
          "height": 224
        },
        "id": "2qTxW_WcT2xI",
        "outputId": "f95b19aa-5b42-47d4-cfb3-334cbac3d6c3"
      },
      "source": [
        "undersample_df.head()"
      ],
      "execution_count": 35,
      "outputs": [
        {
          "output_type": "execute_result",
          "data": {
            "text/html": [
              "<div>\n",
              "<style scoped>\n",
              "    .dataframe tbody tr th:only-of-type {\n",
              "        vertical-align: middle;\n",
              "    }\n",
              "\n",
              "    .dataframe tbody tr th {\n",
              "        vertical-align: top;\n",
              "    }\n",
              "\n",
              "    .dataframe thead th {\n",
              "        text-align: right;\n",
              "    }\n",
              "</style>\n",
              "<table border=\"1\" class=\"dataframe\">\n",
              "  <thead>\n",
              "    <tr style=\"text-align: right;\">\n",
              "      <th></th>\n",
              "      <th>Time</th>\n",
              "      <th>V1</th>\n",
              "      <th>V2</th>\n",
              "      <th>V3</th>\n",
              "      <th>V4</th>\n",
              "      <th>V5</th>\n",
              "      <th>V6</th>\n",
              "      <th>V7</th>\n",
              "      <th>V8</th>\n",
              "      <th>V9</th>\n",
              "      <th>V10</th>\n",
              "      <th>V11</th>\n",
              "      <th>V12</th>\n",
              "      <th>V13</th>\n",
              "      <th>V14</th>\n",
              "      <th>V15</th>\n",
              "      <th>V16</th>\n",
              "      <th>V17</th>\n",
              "      <th>V18</th>\n",
              "      <th>V19</th>\n",
              "      <th>V20</th>\n",
              "      <th>V21</th>\n",
              "      <th>V22</th>\n",
              "      <th>V23</th>\n",
              "      <th>V24</th>\n",
              "      <th>V25</th>\n",
              "      <th>V26</th>\n",
              "      <th>V27</th>\n",
              "      <th>V28</th>\n",
              "      <th>Amount</th>\n",
              "      <th>Class</th>\n",
              "    </tr>\n",
              "  </thead>\n",
              "  <tbody>\n",
              "    <tr>\n",
              "      <th>242715</th>\n",
              "      <td>151612.0</td>\n",
              "      <td>-1.491653</td>\n",
              "      <td>0.952408</td>\n",
              "      <td>-0.470590</td>\n",
              "      <td>0.378938</td>\n",
              "      <td>-0.408883</td>\n",
              "      <td>0.999540</td>\n",
              "      <td>0.948148</td>\n",
              "      <td>0.948335</td>\n",
              "      <td>-0.362067</td>\n",
              "      <td>-1.066266</td>\n",
              "      <td>-0.913052</td>\n",
              "      <td>-0.092200</td>\n",
              "      <td>-2.079032</td>\n",
              "      <td>0.947927</td>\n",
              "      <td>-2.301816</td>\n",
              "      <td>-0.298420</td>\n",
              "      <td>0.097462</td>\n",
              "      <td>0.574890</td>\n",
              "      <td>0.423078</td>\n",
              "      <td>-0.433409</td>\n",
              "      <td>0.244657</td>\n",
              "      <td>0.576821</td>\n",
              "      <td>-0.296185</td>\n",
              "      <td>0.215958</td>\n",
              "      <td>0.696608</td>\n",
              "      <td>-0.367890</td>\n",
              "      <td>-0.186555</td>\n",
              "      <td>-0.091445</td>\n",
              "      <td>215.41</td>\n",
              "      <td>0</td>\n",
              "    </tr>\n",
              "    <tr>\n",
              "      <th>228336</th>\n",
              "      <td>145471.0</td>\n",
              "      <td>2.046765</td>\n",
              "      <td>0.302346</td>\n",
              "      <td>-1.919190</td>\n",
              "      <td>1.054223</td>\n",
              "      <td>0.782079</td>\n",
              "      <td>-0.914982</td>\n",
              "      <td>0.678595</td>\n",
              "      <td>-0.326796</td>\n",
              "      <td>-0.343515</td>\n",
              "      <td>0.547150</td>\n",
              "      <td>0.645886</td>\n",
              "      <td>0.601610</td>\n",
              "      <td>-0.457003</td>\n",
              "      <td>1.054581</td>\n",
              "      <td>-0.415376</td>\n",
              "      <td>-0.165955</td>\n",
              "      <td>-0.734386</td>\n",
              "      <td>0.127291</td>\n",
              "      <td>-0.039837</td>\n",
              "      <td>-0.296395</td>\n",
              "      <td>0.152173</td>\n",
              "      <td>0.519656</td>\n",
              "      <td>-0.053893</td>\n",
              "      <td>-0.404143</td>\n",
              "      <td>0.462810</td>\n",
              "      <td>-0.477038</td>\n",
              "      <td>-0.034608</td>\n",
              "      <td>-0.078544</td>\n",
              "      <td>1.99</td>\n",
              "      <td>0</td>\n",
              "    </tr>\n",
              "    <tr>\n",
              "      <th>262692</th>\n",
              "      <td>160603.0</td>\n",
              "      <td>2.154795</td>\n",
              "      <td>-0.671437</td>\n",
              "      <td>-1.188393</td>\n",
              "      <td>-0.848170</td>\n",
              "      <td>-0.557608</td>\n",
              "      <td>-1.318830</td>\n",
              "      <td>-0.168931</td>\n",
              "      <td>-0.456032</td>\n",
              "      <td>-0.656637</td>\n",
              "      <td>0.758921</td>\n",
              "      <td>-0.453945</td>\n",
              "      <td>0.109608</td>\n",
              "      <td>1.241575</td>\n",
              "      <td>-0.216050</td>\n",
              "      <td>-0.043744</td>\n",
              "      <td>0.850056</td>\n",
              "      <td>0.162522</td>\n",
              "      <td>-1.949855</td>\n",
              "      <td>0.753825</td>\n",
              "      <td>0.093077</td>\n",
              "      <td>-0.030742</td>\n",
              "      <td>-0.132824</td>\n",
              "      <td>0.248490</td>\n",
              "      <td>-0.010302</td>\n",
              "      <td>-0.177486</td>\n",
              "      <td>-0.432002</td>\n",
              "      <td>-0.032784</td>\n",
              "      <td>-0.049037</td>\n",
              "      <td>44.99</td>\n",
              "      <td>0</td>\n",
              "    </tr>\n",
              "    <tr>\n",
              "      <th>259567</th>\n",
              "      <td>159176.0</td>\n",
              "      <td>-0.572694</td>\n",
              "      <td>0.376178</td>\n",
              "      <td>1.143040</td>\n",
              "      <td>-0.326278</td>\n",
              "      <td>0.434560</td>\n",
              "      <td>-0.655631</td>\n",
              "      <td>0.431861</td>\n",
              "      <td>0.063588</td>\n",
              "      <td>-0.076567</td>\n",
              "      <td>-0.584251</td>\n",
              "      <td>0.499956</td>\n",
              "      <td>0.075448</td>\n",
              "      <td>-1.242232</td>\n",
              "      <td>0.509493</td>\n",
              "      <td>-0.311339</td>\n",
              "      <td>-0.287758</td>\n",
              "      <td>-0.413237</td>\n",
              "      <td>0.949346</td>\n",
              "      <td>0.491512</td>\n",
              "      <td>-0.058580</td>\n",
              "      <td>0.482207</td>\n",
              "      <td>1.412241</td>\n",
              "      <td>-0.460015</td>\n",
              "      <td>0.118605</td>\n",
              "      <td>0.325647</td>\n",
              "      <td>0.089901</td>\n",
              "      <td>0.109110</td>\n",
              "      <td>0.118591</td>\n",
              "      <td>4.74</td>\n",
              "      <td>0</td>\n",
              "    </tr>\n",
              "    <tr>\n",
              "      <th>129523</th>\n",
              "      <td>79121.0</td>\n",
              "      <td>1.313611</td>\n",
              "      <td>-1.090969</td>\n",
              "      <td>0.473273</td>\n",
              "      <td>-1.470261</td>\n",
              "      <td>-0.834518</td>\n",
              "      <td>0.841327</td>\n",
              "      <td>-1.194461</td>\n",
              "      <td>0.290142</td>\n",
              "      <td>-1.989933</td>\n",
              "      <td>1.229567</td>\n",
              "      <td>0.890084</td>\n",
              "      <td>-0.030267</td>\n",
              "      <td>1.055417</td>\n",
              "      <td>-0.305106</td>\n",
              "      <td>1.557151</td>\n",
              "      <td>-1.795046</td>\n",
              "      <td>1.791726</td>\n",
              "      <td>-2.177191</td>\n",
              "      <td>-1.922487</td>\n",
              "      <td>-0.434807</td>\n",
              "      <td>-0.066429</td>\n",
              "      <td>0.389462</td>\n",
              "      <td>0.196143</td>\n",
              "      <td>-0.627832</td>\n",
              "      <td>0.053302</td>\n",
              "      <td>-0.100531</td>\n",
              "      <td>0.106574</td>\n",
              "      <td>0.010835</td>\n",
              "      <td>12.00</td>\n",
              "      <td>0</td>\n",
              "    </tr>\n",
              "  </tbody>\n",
              "</table>\n",
              "</div>"
            ],
            "text/plain": [
              "            Time        V1        V2  ...       V28  Amount  Class\n",
              "242715  151612.0 -1.491653  0.952408  ... -0.091445  215.41      0\n",
              "228336  145471.0  2.046765  0.302346  ... -0.078544    1.99      0\n",
              "262692  160603.0  2.154795 -0.671437  ... -0.049037   44.99      0\n",
              "259567  159176.0 -0.572694  0.376178  ...  0.118591    4.74      0\n",
              "129523   79121.0  1.313611 -1.090969  ...  0.010835   12.00      0\n",
              "\n",
              "[5 rows x 31 columns]"
            ]
          },
          "metadata": {
            "tags": []
          },
          "execution_count": 35
        }
      ]
    },
    {
      "cell_type": "code",
      "metadata": {
        "colab": {
          "base_uri": "https://localhost:8080/"
        },
        "id": "h9Oj6h1eT5WA",
        "outputId": "4e3245d6-1a1a-4e42-bbc0-c94974ef7452"
      },
      "source": [
        "undersample_df.shape"
      ],
      "execution_count": 36,
      "outputs": [
        {
          "output_type": "execute_result",
          "data": {
            "text/plain": [
              "(984, 31)"
            ]
          },
          "metadata": {
            "tags": []
          },
          "execution_count": 36
        }
      ]
    },
    {
      "cell_type": "code",
      "metadata": {
        "colab": {
          "base_uri": "https://localhost:8080/"
        },
        "id": "njnJetldT8cH",
        "outputId": "e1c9f905-1ca0-4a2a-bad7-6a2e83547ff0"
      },
      "source": [
        "undersample_df[\"Class\"].value_counts()"
      ],
      "execution_count": 37,
      "outputs": [
        {
          "output_type": "execute_result",
          "data": {
            "text/plain": [
              "1    492\n",
              "0    492\n",
              "Name: Class, dtype: int64"
            ]
          },
          "metadata": {
            "tags": []
          },
          "execution_count": 37
        }
      ]
    },
    {
      "cell_type": "code",
      "metadata": {
        "id": "wKv21NUPQemx"
      },
      "source": [
        "x_uSampl=undersample_df.iloc[:,0:-1]\n",
        "y_uSampl=undersample_df.iloc[:,-1]"
      ],
      "execution_count": 38,
      "outputs": []
    },
    {
      "cell_type": "code",
      "metadata": {
        "id": "7HCNvnpoUEmX"
      },
      "source": [
        "x_uSamp_train,x_uSamp_test,y_uSamp_train,y_uSamp_test = train_test_split(x_uSampl,y_uSampl,train_size=0.7)"
      ],
      "execution_count": 39,
      "outputs": []
    },
    {
      "cell_type": "code",
      "metadata": {
        "id": "-7CowxS0UlvY"
      },
      "source": [
        "scaler_uSamp=StandardScaler()\n",
        "x_uSamp_train_sc=scaler_uSamp.fit_transform(x_uSamp_train)\n",
        "x_uSamp_test_sc=scaler_uSamp.fit_transform(x_uSamp_test)"
      ],
      "execution_count": 41,
      "outputs": []
    },
    {
      "cell_type": "code",
      "metadata": {
        "id": "DeaSVbCXU7w3"
      },
      "source": [
        "LR_uSamp=LogisticRegression().fit(x_uSamp_train_sc,y_uSamp_train)"
      ],
      "execution_count": 42,
      "outputs": []
    },
    {
      "cell_type": "code",
      "metadata": {
        "id": "xEuJPildVX_d"
      },
      "source": [
        "pred_uSamp=LR_uSamp.predict(x_uSamp_test_sc)"
      ],
      "execution_count": 43,
      "outputs": []
    },
    {
      "cell_type": "code",
      "metadata": {
        "colab": {
          "base_uri": "https://localhost:8080/"
        },
        "id": "K2tM8TOzVpwZ",
        "outputId": "f81376b3-f3ac-427e-b0ff-938a83665e46"
      },
      "source": [
        "print(\"Not UnderSampled\")\n",
        "print(generate_report(y_noSamp_test,pred_noSamp))\n",
        "print(\"UnderSampled\")\n",
        "print(generate_report(y_uSamp_test,pred_uSamp))"
      ],
      "execution_count": 44,
      "outputs": [
        {
          "output_type": "stream",
          "text": [
            "Not UnderSampled\n",
            "{'accuracy': 0.9991105181231933, 'precision': 0.8854166666666666, 'recall': 0.5666666666666667, 'f1_score': 0.6910569105691056}\n",
            "UnderSampled\n",
            "{'accuracy': 0.9391891891891891, 'precision': 0.9788732394366197, 'recall': 0.9025974025974026, 'f1_score': 0.9391891891891893}\n"
          ],
          "name": "stdout"
        }
      ]
    },
    {
      "cell_type": "markdown",
      "metadata": {
        "id": "oLg39lu-RyvA"
      },
      "source": [
        "Class weights"
      ]
    },
    {
      "cell_type": "code",
      "metadata": {
        "id": "-Fja2EDyVvGp"
      },
      "source": [
        "x_CW=df.iloc[:,0:-1]\n",
        "y_CW=df.iloc[:,-1]"
      ],
      "execution_count": 45,
      "outputs": []
    },
    {
      "cell_type": "code",
      "metadata": {
        "id": "xEEhz3MPSWIB"
      },
      "source": [
        "x_CW_train,x_CW_test,y_CW_train,y_CW_test=train_test_split(x_CW,y_CW,train_size=0.7)"
      ],
      "execution_count": 46,
      "outputs": []
    },
    {
      "cell_type": "code",
      "metadata": {
        "id": "LiotuE8ISu0u"
      },
      "source": [
        "scaler_CW=StandardScaler()\n",
        "x_CW_train_sc=scaler_CW.fit_transform(x_CW_train)\n",
        "x_CW_test_sc=scaler_CW.fit_transform(x_CW_test)"
      ],
      "execution_count": 48,
      "outputs": []
    },
    {
      "cell_type": "code",
      "metadata": {
        "id": "0-2lHi3WTErl"
      },
      "source": [
        "LR_CW=LogisticRegression(class_weight=\"balanced\").fit(x_CW_train_sc,y_CW_train)"
      ],
      "execution_count": 49,
      "outputs": []
    },
    {
      "cell_type": "code",
      "metadata": {
        "id": "8AQX07MITUHU"
      },
      "source": [
        "pred_CW=LR_CW.predict(x_CW_test_sc)"
      ],
      "execution_count": 50,
      "outputs": []
    },
    {
      "cell_type": "code",
      "metadata": {
        "colab": {
          "base_uri": "https://localhost:8080/"
        },
        "id": "1ku18ikdUHwj",
        "outputId": "201e50de-636e-49ac-ffa3-681a1403b767"
      },
      "source": [
        "from sklearn.utils import class_weight\n",
        "class_weight.compute_class_weight(\"balanced\",np.unique(y_CW_train),y_CW_train)\n",
        "#class weight for major and minor class"
      ],
      "execution_count": 52,
      "outputs": [
        {
          "output_type": "execute_result",
          "data": {
            "text/plain": [
              "array([  0.50084914, 294.91715976])"
            ]
          },
          "metadata": {
            "tags": []
          },
          "execution_count": 52
        }
      ]
    },
    {
      "cell_type": "code",
      "metadata": {
        "colab": {
          "base_uri": "https://localhost:8080/"
        },
        "id": "5zCPBHKUTbME",
        "outputId": "b338166c-c6cf-466a-a15d-7f7bab1d105f"
      },
      "source": [
        "print(\"Not UnderSampled\")\n",
        "print(generate_report(y_noSamp_test,pred_noSamp))\n",
        "print(\"UnderSampled\")\n",
        "print(generate_report(y_uSamp_test,pred_uSamp))\n",
        "print(\"class weight\")\n",
        "print(generate_report(y_CW_test,pred_CW))"
      ],
      "execution_count": 53,
      "outputs": [
        {
          "output_type": "stream",
          "text": [
            "Not UnderSampled\n",
            "{'accuracy': 0.9991105181231933, 'precision': 0.8854166666666666, 'recall': 0.5666666666666667, 'f1_score': 0.6910569105691056}\n",
            "UnderSampled\n",
            "{'accuracy': 0.9391891891891891, 'precision': 0.9788732394366197, 'recall': 0.9025974025974026, 'f1_score': 0.9391891891891893}\n",
            "class weight\n",
            "{'accuracy': 0.9749657666514518, 'precision': 0.06181015452538632, 'recall': 0.9090909090909091, 'f1_score': 0.11575031004547334}\n"
          ],
          "name": "stdout"
        }
      ]
    },
    {
      "cell_type": "markdown",
      "metadata": {
        "id": "Rj1es2F8q1ap"
      },
      "source": [
        "GridSearchCV"
      ]
    },
    {
      "cell_type": "code",
      "metadata": {
        "id": "BYV6nBU1ThBM"
      },
      "source": [
        "from sklearn.model_selection import GridSearchCV"
      ],
      "execution_count": 54,
      "outputs": []
    },
    {
      "cell_type": "code",
      "metadata": {
        "colab": {
          "base_uri": "https://localhost:8080/"
        },
        "id": "0CM0bOfeq5zF",
        "outputId": "ccfcf967-a1c4-4742-82ad-733b2ac43279"
      },
      "source": [
        "weights=np.linspace(0.05,0.95,20)\n",
        "gsc=GridSearchCV(\n",
        "    estimator=LogisticRegression(),\n",
        "    param_grid={\"class_weight\":[{0:x , 1:1-x} for x in weights]},\n",
        "    scoring='f1',\n",
        "    cv=5\n",
        ")\n",
        "\n",
        "grid_result=gsc.fit(x_CW_train_sc,y_CW_train)\n",
        "grid_result.best_params_"
      ],
      "execution_count": 55,
      "outputs": [
        {
          "output_type": "execute_result",
          "data": {
            "text/plain": [
              "{'class_weight': {0: 0.09736842105263158, 1: 0.9026315789473685}}"
            ]
          },
          "metadata": {
            "tags": []
          },
          "execution_count": 55
        }
      ]
    },
    {
      "cell_type": "code",
      "metadata": {
        "id": "tiZgZA6DtHD4"
      },
      "source": [
        "LR_CWV=LogisticRegression(**grid_result.best_params_).fit(x_CW_train_sc,y_CW_train)"
      ],
      "execution_count": 56,
      "outputs": []
    },
    {
      "cell_type": "code",
      "metadata": {
        "id": "4ugc0PRlwchs"
      },
      "source": [
        "pred_CWV=LR_CWV.predict(x_CW_test_sc)"
      ],
      "execution_count": 57,
      "outputs": []
    },
    {
      "cell_type": "code",
      "metadata": {
        "colab": {
          "base_uri": "https://localhost:8080/"
        },
        "id": "IyDmu4RJwkfI",
        "outputId": "2f91262e-3421-49c2-b574-aafdf68b5538"
      },
      "source": [
        "print(\"Not UnderSampled\")\n",
        "print(generate_report(y_noSamp_test,pred_noSamp))\n",
        "print(\"UnderSampled\")\n",
        "print(generate_report(y_uSamp_test,pred_uSamp))\n",
        "print(\"class weight\")\n",
        "print(generate_report(y_CW_test,pred_CW))\n",
        "print(\"class weight CV\")\n",
        "print(generate_report(y_CW_test,pred_CWV))"
      ],
      "execution_count": 58,
      "outputs": [
        {
          "output_type": "stream",
          "text": [
            "Not UnderSampled\n",
            "{'accuracy': 0.9991105181231933, 'precision': 0.8854166666666666, 'recall': 0.5666666666666667, 'f1_score': 0.6910569105691056}\n",
            "UnderSampled\n",
            "{'accuracy': 0.9391891891891891, 'precision': 0.9788732394366197, 'recall': 0.9025974025974026, 'f1_score': 0.9391891891891893}\n",
            "class weight\n",
            "{'accuracy': 0.9749657666514518, 'precision': 0.06181015452538632, 'recall': 0.9090909090909091, 'f1_score': 0.11575031004547334}\n",
            "class weight CV\n",
            "{'accuracy': 0.9992743700478681, 'precision': 0.7804878048780488, 'recall': 0.8311688311688312, 'f1_score': 0.8050314465408805}\n"
          ],
          "name": "stdout"
        }
      ]
    },
    {
      "cell_type": "markdown",
      "metadata": {
        "id": "QgyGgWsvYZAF"
      },
      "source": [
        "imblearn under sampling\n"
      ]
    },
    {
      "cell_type": "code",
      "metadata": {
        "colab": {
          "base_uri": "https://localhost:8080/"
        },
        "id": "WJSFP2GQYYuh",
        "outputId": "f0c05ff3-9dc8-4d48-c4d9-f163efee6c77"
      },
      "source": [
        "from imblearn.under_sampling import NearMiss"
      ],
      "execution_count": 59,
      "outputs": [
        {
          "output_type": "stream",
          "text": [
            "/usr/local/lib/python3.7/dist-packages/sklearn/externals/six.py:31: FutureWarning: The module is deprecated in version 0.21 and will be removed in version 0.23 since we've dropped support for Python 2.7. Please rely on the official version of six (https://pypi.org/project/six/).\n",
            "  \"(https://pypi.org/project/six/).\", FutureWarning)\n",
            "/usr/local/lib/python3.7/dist-packages/sklearn/utils/deprecation.py:144: FutureWarning: The sklearn.neighbors.base module is  deprecated in version 0.22 and will be removed in version 0.24. The corresponding classes / functions should instead be imported from sklearn.neighbors. Anything that cannot be imported from sklearn.neighbors is now part of the private API.\n",
            "  warnings.warn(message, FutureWarning)\n"
          ],
          "name": "stderr"
        }
      ]
    },
    {
      "cell_type": "code",
      "metadata": {
        "id": "o2a7334Ty0bN"
      },
      "source": [
        "x_imb=df.iloc[:,0:-1]\n",
        "y_imb=df.iloc[:,-1]"
      ],
      "execution_count": 60,
      "outputs": []
    },
    {
      "cell_type": "code",
      "metadata": {
        "id": "S7zwpB0LYzh9"
      },
      "source": [
        "x_imb_train,x_imb_test,y_imb_train,y_imb_test=train_test_split(x_imb,y_imb,train_size=0.7)"
      ],
      "execution_count": 61,
      "outputs": []
    },
    {
      "cell_type": "code",
      "metadata": {
        "id": "hWy9R-BTZEN1"
      },
      "source": [
        "scaler_imb=StandardScaler()\n",
        "x_imb_train_sc=scaler_imb.fit_transform(x_imb_train)\n",
        "x_imb_test_sc=scaler_imb.fit_transform(x_imb_test)"
      ],
      "execution_count": 62,
      "outputs": []
    },
    {
      "cell_type": "code",
      "metadata": {
        "colab": {
          "base_uri": "https://localhost:8080/"
        },
        "id": "lhiC_nb_ZeNu",
        "outputId": "e98d7520-a23e-4ad8-e60a-10ba426e93f0"
      },
      "source": [
        "NM=NearMiss(random_state=40)\n",
        "x_NM_train,y_NM_train=NM.fit_sample(x_imb_train_sc,y_imb_train)"
      ],
      "execution_count": 64,
      "outputs": [
        {
          "output_type": "stream",
          "text": [
            "/usr/local/lib/python3.7/dist-packages/sklearn/utils/deprecation.py:87: FutureWarning: Function safe_indexing is deprecated; safe_indexing is deprecated in version 0.22 and will be removed in version 0.24.\n",
            "  warnings.warn(msg, category=FutureWarning)\n",
            "/usr/local/lib/python3.7/dist-packages/sklearn/utils/deprecation.py:87: FutureWarning: Function safe_indexing is deprecated; safe_indexing is deprecated in version 0.22 and will be removed in version 0.24.\n",
            "  warnings.warn(msg, category=FutureWarning)\n",
            "/usr/local/lib/python3.7/dist-packages/sklearn/utils/deprecation.py:87: FutureWarning: Function safe_indexing is deprecated; safe_indexing is deprecated in version 0.22 and will be removed in version 0.24.\n",
            "  warnings.warn(msg, category=FutureWarning)\n"
          ],
          "name": "stderr"
        }
      ]
    },
    {
      "cell_type": "code",
      "metadata": {
        "colab": {
          "base_uri": "https://localhost:8080/"
        },
        "id": "WNtKSLOKa96I",
        "outputId": "0becc6b4-d049-4a72-fed4-4153893f5e7c"
      },
      "source": [
        "x_NM_test,y_NM_test=NM.fit_sample(x_imb_test_sc,y_imb_test)"
      ],
      "execution_count": 65,
      "outputs": [
        {
          "output_type": "stream",
          "text": [
            "/usr/local/lib/python3.7/dist-packages/sklearn/utils/deprecation.py:87: FutureWarning: Function safe_indexing is deprecated; safe_indexing is deprecated in version 0.22 and will be removed in version 0.24.\n",
            "  warnings.warn(msg, category=FutureWarning)\n",
            "/usr/local/lib/python3.7/dist-packages/sklearn/utils/deprecation.py:87: FutureWarning: Function safe_indexing is deprecated; safe_indexing is deprecated in version 0.22 and will be removed in version 0.24.\n",
            "  warnings.warn(msg, category=FutureWarning)\n",
            "/usr/local/lib/python3.7/dist-packages/sklearn/utils/deprecation.py:87: FutureWarning: Function safe_indexing is deprecated; safe_indexing is deprecated in version 0.22 and will be removed in version 0.24.\n",
            "  warnings.warn(msg, category=FutureWarning)\n"
          ],
          "name": "stderr"
        }
      ]
    },
    {
      "cell_type": "code",
      "metadata": {
        "colab": {
          "base_uri": "https://localhost:8080/"
        },
        "id": "tn0XteQ3Z4aR",
        "outputId": "17cb7d75-1bc9-4a13-93aa-7b49ec812f0f"
      },
      "source": [
        "x_NM_train.shape,y_NM_train.shape"
      ],
      "execution_count": 66,
      "outputs": [
        {
          "output_type": "execute_result",
          "data": {
            "text/plain": [
              "((718, 30), (718,))"
            ]
          },
          "metadata": {
            "tags": []
          },
          "execution_count": 66
        }
      ]
    },
    {
      "cell_type": "code",
      "metadata": {
        "id": "b49ixeiZaGEo"
      },
      "source": [
        "LR_NM=LogisticRegression().fit(x_NM_train,y_NM_train)"
      ],
      "execution_count": 67,
      "outputs": []
    },
    {
      "cell_type": "code",
      "metadata": {
        "id": "gonT-0kEazT5"
      },
      "source": [
        "pred_NM=LR_NM.predict(x_NM_test)"
      ],
      "execution_count": 68,
      "outputs": []
    },
    {
      "cell_type": "code",
      "metadata": {
        "colab": {
          "base_uri": "https://localhost:8080/"
        },
        "id": "6Fa6eXEgbRnz",
        "outputId": "72b7fc80-3bcf-4b46-fea8-be8c9f8c5936"
      },
      "source": [
        "print(\"Not UnderSampled\")\n",
        "NU_points=generate_report(y_noSamp_test,pred_noSamp)\n",
        "print(NU_points)\n",
        "\n",
        "print(\"UnderSampled\")\n",
        "US_points=generate_report(y_uSamp_test,pred_uSamp)\n",
        "print(US_points)\n",
        "\n",
        "print(\"class weight\")\n",
        "CW_points=generate_report(y_CW_test,pred_CW)\n",
        "print(CW_points)\n",
        "\n",
        "print(\"class weight CV\")\n",
        "CV_points=generate_report(y_CW_test,pred_CWV)\n",
        "print(CV_points)\n",
        "\n",
        "print(\"imblearn NearMiss\")\n",
        "NM_points=generate_report(y_NM_test,pred_NM)\n",
        "print(NM_points)"
      ],
      "execution_count": 69,
      "outputs": [
        {
          "output_type": "stream",
          "text": [
            "Not UnderSampled\n",
            "{'accuracy': 0.9991105181231933, 'precision': 0.8854166666666666, 'recall': 0.5666666666666667, 'f1_score': 0.6910569105691056}\n",
            "UnderSampled\n",
            "{'accuracy': 0.9391891891891891, 'precision': 0.9788732394366197, 'recall': 0.9025974025974026, 'f1_score': 0.9391891891891893}\n",
            "class weight\n",
            "{'accuracy': 0.9749657666514518, 'precision': 0.06181015452538632, 'recall': 0.9090909090909091, 'f1_score': 0.11575031004547334}\n",
            "class weight CV\n",
            "{'accuracy': 0.9992743700478681, 'precision': 0.7804878048780488, 'recall': 0.8311688311688312, 'f1_score': 0.8050314465408805}\n",
            "imblearn NearMiss\n",
            "{'accuracy': 0.9548872180451128, 'precision': 1.0, 'recall': 0.9097744360902256, 'f1_score': 0.952755905511811}\n"
          ],
          "name": "stdout"
        }
      ]
    },
    {
      "cell_type": "code",
      "metadata": {
        "id": "hTRQU05khJ9k"
      },
      "source": [
        "X_NU_points = list(NU_points.keys())\n",
        "Y_NU_points = list(NU_points.values())\n",
        "\n",
        "X_US_points = list(US_points.keys())\n",
        "Y_US_points = list(US_points.values())\n",
        "\n",
        "X_CW_points = list(CW_points.keys())\n",
        "Y_CW_points = list(CW_points.values())\n",
        "\n",
        "X_CV_points = list(CV_points.keys())\n",
        "Y_CV_points = list(CV_points.values())\n",
        "\n",
        "X_NM_points = list(NM_points.keys())\n",
        "Y_NM_points = list(NM_points.values())"
      ],
      "execution_count": 70,
      "outputs": []
    },
    {
      "cell_type": "code",
      "metadata": {
        "colab": {
          "base_uri": "https://localhost:8080/",
          "height": 312
        },
        "id": "72B-yHb8bhk7",
        "outputId": "c94fa425-c0b9-4f9c-acd7-28deb3adf092"
      },
      "source": [
        "import matplotlib.pyplot as plt\n",
        "plt.figure(figsize=(25,5))\n",
        "\n",
        "plt.subplot(1,5,1).set_title(\"Not UnderSampled\")\n",
        "plt.bar(X_NU_points,Y_NU_points)\n",
        "\n",
        "plt.subplot(1,5,2).set_title(\"UnderSampled\")\n",
        "plt.bar(X_US_points,Y_US_points)\n",
        "\n",
        "plt.subplot(1,5,3).set_title(\"class weight\")\n",
        "plt.bar(X_CW_points,Y_CW_points)\n",
        "\n",
        "plt.subplot(1,5,4).set_title(\"class weight GridSearchCV\")\n",
        "plt.bar(X_CV_points,Y_CV_points)\n",
        "\n",
        "plt.subplot(1,5,5).set_title(\"imblearn NearMiss\")\n",
        "plt.bar(X_NM_points,Y_NM_points)"
      ],
      "execution_count": 71,
      "outputs": [
        {
          "output_type": "execute_result",
          "data": {
            "text/plain": [
              "<BarContainer object of 4 artists>"
            ]
          },
          "metadata": {
            "tags": []
          },
          "execution_count": 71
        },
        {
          "output_type": "display_data",
          "data": {
            "image/png": "[encoded data removed]",
            "text/plain": [
              "<Figure size 1800x360 with 5 Axes>"
            ]
          },
          "metadata": {
            "tags": [],
            "needs_background": "light"
          }
        }
      ]
    },
    {
      "cell_type": "markdown",
      "metadata": {
        "id": "bTKv1zluu2lO"
      },
      "source": [
        "OverSampling"
      ]
    },
    {
      "cell_type": "markdown",
      "metadata": {
        "id": "rOtnKywfzmmW"
      },
      "source": [
        "SMOTETomek"
      ]
    },
    {
      "cell_type": "code",
      "metadata": {
        "id": "cJkwCY9-pyfg"
      },
      "source": [
        "x_SMTK=df.iloc[:,0:-1]\n",
        "y_SMTK=df.iloc[:,-1]"
      ],
      "execution_count": 72,
      "outputs": []
    },
    {
      "cell_type": "code",
      "metadata": {
        "id": "GkcT5o1sv17P"
      },
      "source": [
        "x_SMTK_train,x_SMTK_test,y_SMTK_train,y_SMTK_test=train_test_split(x_SMTK,y_SMTK,train_size=0.7)"
      ],
      "execution_count": 73,
      "outputs": []
    },
    {
      "cell_type": "code",
      "metadata": {
        "id": "-OvCXBUdwNdG"
      },
      "source": [
        "scaler_SMTK=StandardScaler()\n",
        "x_SMTK_train_sc=scaler_SMTK.fit_transform(x_SMTK_train)\n",
        "x_SMTK_test_sc=scaler_SMTK.fit_transform(x_SMTK_test)"
      ],
      "execution_count": 74,
      "outputs": []
    },
    {
      "cell_type": "code",
      "metadata": {
        "id": "327qVtU9vXuF"
      },
      "source": [
        "from imblearn.combine import SMOTETomek"
      ],
      "execution_count": 75,
      "outputs": []
    },
    {
      "cell_type": "code",
      "metadata": {
        "colab": {
          "base_uri": "https://localhost:8080/"
        },
        "id": "ZPRwAXeKvxXr",
        "outputId": "f81a5778-6d4a-4e62-a61b-2f727766da02"
      },
      "source": [
        "smk=SMOTETomek(random_state=40)\n",
        "x_smk_train,y_smk_train=smk.fit_sample(x_SMTK_train_sc,y_SMTK_train)"
      ],
      "execution_count": 76,
      "outputs": [
        {
          "output_type": "stream",
          "text": [
            "/usr/local/lib/python3.7/dist-packages/sklearn/utils/deprecation.py:87: FutureWarning: Function safe_indexing is deprecated; safe_indexing is deprecated in version 0.22 and will be removed in version 0.24.\n",
            "  warnings.warn(msg, category=FutureWarning)\n",
            "/usr/local/lib/python3.7/dist-packages/sklearn/utils/deprecation.py:87: FutureWarning: Function safe_indexing is deprecated; safe_indexing is deprecated in version 0.22 and will be removed in version 0.24.\n",
            "  warnings.warn(msg, category=FutureWarning)\n"
          ],
          "name": "stderr"
        }
      ]
    },
    {
      "cell_type": "code",
      "metadata": {
        "colab": {
          "base_uri": "https://localhost:8080/"
        },
        "id": "zmdjDrznwtOv",
        "outputId": "44d0397a-6df3-464b-f62d-71d6172b339f"
      },
      "source": [
        "x_smk_test,y_smk_test=smk.fit_sample(x_SMTK_test_sc,y_SMTK_test)"
      ],
      "execution_count": 77,
      "outputs": [
        {
          "output_type": "stream",
          "text": [
            "/usr/local/lib/python3.7/dist-packages/sklearn/utils/deprecation.py:87: FutureWarning: Function safe_indexing is deprecated; safe_indexing is deprecated in version 0.22 and will be removed in version 0.24.\n",
            "  warnings.warn(msg, category=FutureWarning)\n",
            "/usr/local/lib/python3.7/dist-packages/sklearn/utils/deprecation.py:87: FutureWarning: Function safe_indexing is deprecated; safe_indexing is deprecated in version 0.22 and will be removed in version 0.24.\n",
            "  warnings.warn(msg, category=FutureWarning)\n"
          ],
          "name": "stderr"
        }
      ]
    },
    {
      "cell_type": "code",
      "metadata": {
        "id": "bKOjd3jXxsVI"
      },
      "source": [
        "LR_smk=LogisticRegression().fit(x_smk_train,y_smk_train)"
      ],
      "execution_count": 78,
      "outputs": []
    },
    {
      "cell_type": "code",
      "metadata": {
        "id": "l_x6Z7z2z02g"
      },
      "source": [
        "pred_smk=LR_smk.predict(x_smk_test)"
      ],
      "execution_count": 79,
      "outputs": []
    },
    {
      "cell_type": "code",
      "metadata": {
        "colab": {
          "base_uri": "https://localhost:8080/"
        },
        "id": "Q52tVSN9z6Tl",
        "outputId": "f8b202e7-7c5a-495e-e1db-c5b7d10739f9"
      },
      "source": [
        "generate_report(y_smk_test,pred_smk)"
      ],
      "execution_count": 80,
      "outputs": [
        {
          "output_type": "execute_result",
          "data": {
            "text/plain": [
              "{'accuracy': 0.9281258793734172,\n",
              " 'f1_score': 0.9243434044233806,\n",
              " 'precision': 0.9756904637832204,\n",
              " 'recall': 0.8781305693649751}"
            ]
          },
          "metadata": {
            "tags": []
          },
          "execution_count": 80
        }
      ]
    },
    {
      "cell_type": "markdown",
      "metadata": {
        "id": "ruyAVYpO0Cv0"
      },
      "source": [
        "Random Over Sampler"
      ]
    },
    {
      "cell_type": "code",
      "metadata": {
        "id": "0eTom9h50ByO"
      },
      "source": [
        "from imblearn.over_sampling import RandomOverSampler"
      ],
      "execution_count": 81,
      "outputs": []
    },
    {
      "cell_type": "code",
      "metadata": {
        "id": "u21k82zV4i1p"
      },
      "source": [
        "x_ROS=df.iloc[:,0:-1]\n",
        "y_ROS=df.iloc[:,-1]"
      ],
      "execution_count": 82,
      "outputs": []
    },
    {
      "cell_type": "code",
      "metadata": {
        "id": "UajTAUTx4m5a"
      },
      "source": [
        "x_ROS_train,x_ROS_test,y_ROS_train,y_ROS_test=train_test_split(x_ROS,y_ROS,train_size=0.7)"
      ],
      "execution_count": 83,
      "outputs": []
    },
    {
      "cell_type": "code",
      "metadata": {
        "id": "AVwg3_cv4vGi"
      },
      "source": [
        "scaler_ROS=StandardScaler()\n",
        "x_ROS_train_sc=scaler_ROS.fit_transform(x_ROS_train)\n",
        "x_ROS_test_sc=scaler_ROS.fit_transform(x_ROS_test)"
      ],
      "execution_count": 84,
      "outputs": []
    },
    {
      "cell_type": "code",
      "metadata": {
        "colab": {
          "base_uri": "https://localhost:8080/"
        },
        "id": "fl-OlMan42zz",
        "outputId": "92bfafba-1988-4647-bc95-42aada188a42"
      },
      "source": [
        "ros=RandomOverSampler(ratio=1)\n",
        "x_ros_train,y_ros_train=ros.fit_sample(x_ROS_train_sc,y_ROS_train)"
      ],
      "execution_count": 85,
      "outputs": [
        {
          "output_type": "stream",
          "text": [
            "/usr/local/lib/python3.7/dist-packages/sklearn/utils/deprecation.py:87: FutureWarning: Function safe_indexing is deprecated; safe_indexing is deprecated in version 0.22 and will be removed in version 0.24.\n",
            "  warnings.warn(msg, category=FutureWarning)\n"
          ],
          "name": "stderr"
        }
      ]
    },
    {
      "cell_type": "code",
      "metadata": {
        "colab": {
          "base_uri": "https://localhost:8080/"
        },
        "id": "DIcO5npc5Uqm",
        "outputId": "57cade15-c31c-4fe3-856d-34be27e984f7"
      },
      "source": [
        "x_ros_test,y_ros_test=ros.fit_sample(x_ROS_test_sc,y_ROS_test)"
      ],
      "execution_count": 86,
      "outputs": [
        {
          "output_type": "stream",
          "text": [
            "/usr/local/lib/python3.7/dist-packages/sklearn/utils/deprecation.py:87: FutureWarning: Function safe_indexing is deprecated; safe_indexing is deprecated in version 0.22 and will be removed in version 0.24.\n",
            "  warnings.warn(msg, category=FutureWarning)\n"
          ],
          "name": "stderr"
        }
      ]
    },
    {
      "cell_type": "code",
      "metadata": {
        "id": "sD32iBk05ddj"
      },
      "source": [
        "LR_ros=LogisticRegression().fit(x_ros_train,y_ros_train)"
      ],
      "execution_count": 87,
      "outputs": []
    },
    {
      "cell_type": "code",
      "metadata": {
        "id": "4__QN7u-5kjU"
      },
      "source": [
        "pred_ros=LR_ros.predict(x_ros_test)"
      ],
      "execution_count": 88,
      "outputs": []
    },
    {
      "cell_type": "code",
      "metadata": {
        "colab": {
          "base_uri": "https://localhost:8080/"
        },
        "id": "qYHM3J7j5pGT",
        "outputId": "76c65038-aea4-4830-e3c2-00cfc0009697"
      },
      "source": [
        "generate_report(y_ros_test,pred_ros)"
      ],
      "execution_count": 89,
      "outputs": [
        {
          "output_type": "execute_result",
          "data": {
            "text/plain": [
              "{'accuracy': 0.9520239616426152,\n",
              " 'f1_score': 0.9508818463865001,\n",
              " 'precision': 0.9740705222779581,\n",
              " 'recall': 0.928771555513874}"
            ]
          },
          "metadata": {
            "tags": []
          },
          "execution_count": 89
        }
      ]
    },
    {
      "cell_type": "markdown",
      "metadata": {
        "id": "vrNpmCet51VM"
      },
      "source": [
        "SMOTE"
      ]
    },
    {
      "cell_type": "code",
      "metadata": {
        "id": "qi3yWgVK50iT"
      },
      "source": [
        "from imblearn.over_sampling import SMOTE"
      ],
      "execution_count": 90,
      "outputs": []
    },
    {
      "cell_type": "code",
      "metadata": {
        "id": "UYK21DqLbmrF"
      },
      "source": [
        "x_STE=df.iloc[:,0:-1]\n",
        "y_STE=df.iloc[:,-1]"
      ],
      "execution_count": 91,
      "outputs": []
    },
    {
      "cell_type": "code",
      "metadata": {
        "id": "FHCtuHzzbsjz"
      },
      "source": [
        "x_STE_train,x_STE_test,y_STE_train,y_STE_test=train_test_split(x_STE,y_STE,train_size=0.7)"
      ],
      "execution_count": 92,
      "outputs": []
    },
    {
      "cell_type": "code",
      "metadata": {
        "id": "Lt9ltth1b3pc"
      },
      "source": [
        "scaler_sm=StandardScaler()\n",
        "x_STE_train_sc=scaler_sm.fit_transform(x_STE_train)\n",
        "x_STE_test_sc=scaler_sm.fit_transform(x_STE_test)"
      ],
      "execution_count": 94,
      "outputs": []
    },
    {
      "cell_type": "code",
      "metadata": {
        "colab": {
          "base_uri": "https://localhost:8080/"
        },
        "id": "gmwMmwzDcBcj",
        "outputId": "11c4b24c-37dd-478a-d9ef-fb8fa70bb10e"
      },
      "source": [
        "ste=SMOTE(random_state=40,ratio=1)\n",
        "x_ste_train,y_ste_train=ste.fit_sample(x_STE_train_sc,y_STE_train)"
      ],
      "execution_count": 95,
      "outputs": [
        {
          "output_type": "stream",
          "text": [
            "/usr/local/lib/python3.7/dist-packages/sklearn/utils/deprecation.py:87: FutureWarning: Function safe_indexing is deprecated; safe_indexing is deprecated in version 0.22 and will be removed in version 0.24.\n",
            "  warnings.warn(msg, category=FutureWarning)\n"
          ],
          "name": "stderr"
        }
      ]
    },
    {
      "cell_type": "code",
      "metadata": {
        "colab": {
          "base_uri": "https://localhost:8080/"
        },
        "id": "pU__lH0ecXpM",
        "outputId": "008c76f3-22c2-435e-d96c-3b95a9691cf7"
      },
      "source": [
        "x_ste_test,y_ste_test=ste.fit_sample(x_STE_test_sc,y_STE_test)"
      ],
      "execution_count": 96,
      "outputs": [
        {
          "output_type": "stream",
          "text": [
            "/usr/local/lib/python3.7/dist-packages/sklearn/utils/deprecation.py:87: FutureWarning: Function safe_indexing is deprecated; safe_indexing is deprecated in version 0.22 and will be removed in version 0.24.\n",
            "  warnings.warn(msg, category=FutureWarning)\n"
          ],
          "name": "stderr"
        }
      ]
    },
    {
      "cell_type": "code",
      "metadata": {
        "id": "pI4hAna2cNTU"
      },
      "source": [
        "LR_ste=LogisticRegression().fit(x_ste_train,y_ste_train)"
      ],
      "execution_count": 97,
      "outputs": []
    },
    {
      "cell_type": "code",
      "metadata": {
        "id": "BSf07mWgceBr"
      },
      "source": [
        "pred_ste=LR_ste.predict(x_ste_test)"
      ],
      "execution_count": 98,
      "outputs": []
    },
    {
      "cell_type": "code",
      "metadata": {
        "colab": {
          "base_uri": "https://localhost:8080/"
        },
        "id": "z_UeepKMcl58",
        "outputId": "b3ce3a77-8b24-487a-9fa1-b313ed9e9e61"
      },
      "source": [
        "generate_report(y_ste_test,pred_ste)"
      ],
      "execution_count": 99,
      "outputs": [
        {
          "output_type": "execute_result",
          "data": {
            "text/plain": [
              "{'accuracy': 0.9581941171643278,\n",
              " 'f1_score': 0.9575334635354643,\n",
              " 'precision': 0.9729082219130014,\n",
              " 'recall': 0.9426370766363029}"
            ]
          },
          "metadata": {
            "tags": []
          },
          "execution_count": 99
        }
      ]
    },
    {
      "cell_type": "markdown",
      "metadata": {
        "id": "Gxqu7QjvcxZR"
      },
      "source": [
        "summary of oversampling"
      ]
    },
    {
      "cell_type": "code",
      "metadata": {
        "colab": {
          "base_uri": "https://localhost:8080/"
        },
        "id": "deU1LmQmctNM",
        "outputId": "4fff24e5-031f-498f-cd37-47df30ca85e6"
      },
      "source": [
        "print(\"UnderSampling\")\n",
        "print(\"\\n\")\n",
        "print(\"Not UnderSampled\")\n",
        "NU_points=generate_report(y_noSamp_test,pred_noSamp)\n",
        "print(NU_points)\n",
        "\n",
        "print(\"UnderSampled\")\n",
        "US_points=generate_report(y_uSamp_test,pred_uSamp)\n",
        "print(US_points)\n",
        "\n",
        "print(\"class weight\")\n",
        "CW_points=generate_report(y_CW_test,pred_CW)\n",
        "print(CW_points)\n",
        "\n",
        "print(\"class weight CV\")\n",
        "CV_points=generate_report(y_CW_test,pred_CWV)\n",
        "print(CV_points)\n",
        "\n",
        "print(\"imblearn NearMiss\")\n",
        "NM_points=generate_report(y_NM_test,pred_NM)\n",
        "print(NM_points)\n",
        "\n",
        "print(\"\\n\")\n",
        "\n",
        "print(\"OverSampling\")\n",
        "print(\"\\n\")\n",
        "print(\"SMOTETomek\")\n",
        "smtk_points=generate_report(y_smk_test,pred_smk)\n",
        "print(smtk_points)\n",
        "\n",
        "print(\"RandomOverSamler\")\n",
        "ros_points=generate_report(y_ros_test,pred_ros)\n",
        "print(ros_points)\n",
        "\n",
        "print(\"SMOTE\")\n",
        "smt_points=generate_report(y_ste_test,pred_ste)\n",
        "print(smt_points)"
      ],
      "execution_count": 102,
      "outputs": [
        {
          "output_type": "stream",
          "text": [
            "UnderSampling\n",
            "\n",
            "\n",
            "Not UnderSampled\n",
            "{'accuracy': 0.9991105181231933, 'precision': 0.8854166666666666, 'recall': 0.5666666666666667, 'f1_score': 0.6910569105691056}\n",
            "UnderSampled\n",
            "{'accuracy': 0.9391891891891891, 'precision': 0.9788732394366197, 'recall': 0.9025974025974026, 'f1_score': 0.9391891891891893}\n",
            "class weight\n",
            "{'accuracy': 0.9749657666514518, 'precision': 0.06181015452538632, 'recall': 0.9090909090909091, 'f1_score': 0.11575031004547334}\n",
            "class weight CV\n",
            "{'accuracy': 0.9992743700478681, 'precision': 0.7804878048780488, 'recall': 0.8311688311688312, 'f1_score': 0.8050314465408805}\n",
            "imblearn NearMiss\n",
            "{'accuracy': 0.9548872180451128, 'precision': 1.0, 'recall': 0.9097744360902256, 'f1_score': 0.952755905511811}\n",
            "\n",
            "\n",
            "OverSampling\n",
            "\n",
            "\n",
            "SMOTETomek\n",
            "{'accuracy': 0.9281258793734172, 'precision': 0.9756904637832204, 'recall': 0.8781305693649751, 'f1_score': 0.9243434044233806}\n",
            "RandomOverSamler\n",
            "{'accuracy': 0.9520239616426152, 'precision': 0.9740705222779581, 'recall': 0.928771555513874, 'f1_score': 0.9508818463865001}\n",
            "SMOTE\n",
            "{'accuracy': 0.9581941171643278, 'precision': 0.9729082219130014, 'recall': 0.9426370766363029, 'f1_score': 0.9575334635354643}\n"
          ],
          "name": "stdout"
        }
      ]
    },
    {
      "cell_type": "code",
      "metadata": {
        "id": "MraiqGdEkJ8-"
      },
      "source": [
        "X_SMOTETomek_points = list(smtk_points.keys())\n",
        "Y_SMOTETomek_points = list(smtk_points.values())\n",
        "\n",
        "X_ros_points = list(ros_points.keys())\n",
        "Y_ros_points = list(ros_points.values())\n",
        "\n",
        "X_smt_points = list(smt_points.keys())\n",
        "Y_smt_points = list(smt_points.values())"
      ],
      "execution_count": 103,
      "outputs": []
    },
    {
      "cell_type": "code",
      "metadata": {
        "id": "Fy4VuoNQlRYz",
        "colab": {
          "base_uri": "https://localhost:8080/",
          "height": 784
        },
        "outputId": "97c5fd15-a694-4304-cc36-92fe1bd17c6e"
      },
      "source": [
        "import matplotlib.pyplot as plt\n",
        "plt.figure(figsize=(25,15))\n",
        "\n",
        "plt.subplot(2,5,1).set_title(\"Not UnderSampled\")\n",
        "plt.bar(X_NU_points,Y_NU_points)\n",
        "\n",
        "plt.subplot(2,5,2).set_title(\"UnderSampled\")\n",
        "plt.bar(X_US_points,Y_US_points)\n",
        "\n",
        "plt.subplot(2,5,3).set_title(\"class weight\")\n",
        "plt.bar(X_CW_points,Y_CW_points)\n",
        "\n",
        "plt.subplot(2,5,4).set_title(\"class weight GridSearchCV\")\n",
        "plt.bar(X_CV_points,Y_CV_points)\n",
        "\n",
        "plt.subplot(2,5,5).set_title(\"UnderSample_imblearn NearMiss\")\n",
        "plt.bar(X_NM_points,Y_NM_points)\n",
        "\n",
        "plt.subplot(2,5,6).set_title(\"OverSample_SMOTETomek\")\n",
        "plt.bar(X_SMOTETomek_points,Y_SMOTETomek_points)\n",
        "\n",
        "plt.subplot(2,5,7).set_title(\"OverSample_RandomOverSamler\")\n",
        "plt.bar(X_ros_points,Y_ros_points)\n",
        "\n",
        "plt.subplot(2,5,8).set_title(\"OverSample_SMOTE\")\n",
        "plt.bar(X_smt_points,Y_smt_points)"
      ],
      "execution_count": 106,
      "outputs": [
        {
          "output_type": "execute_result",
          "data": {
            "text/plain": [
              "<BarContainer object of 4 artists>"
            ]
          },
          "metadata": {
            "tags": []
          },
          "execution_count": 106
        },
        {
          "output_type": "display_data",
          "data": {
            "image/png": "[encoded data removed]",
            "text/plain": [
              "<Figure size 1800x1080 with 8 Axes>"
            ]
          },
          "metadata": {
            "tags": [],
            "needs_background": "light"
          }
        }
      ]
    }
  ]
}